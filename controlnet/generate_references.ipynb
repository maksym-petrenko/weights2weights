{
 "cells": [
  {
   "cell_type": "code",
   "execution_count": null,
   "id": "0",
   "metadata": {},
   "outputs": [],
   "source": [
    "import sys\n",
    "import os \n",
    "import math\n",
    "import mediapipe as mp\n",
    "sys.path.append(os.path.abspath(os.path.join(\"\", \"..\")))\n",
    "from facemesh import get_canonical_3d_landmarks, generate_controlnet_face_pose"
   ]
  },
  {
   "cell_type": "code",
   "execution_count": null,
   "id": "1",
   "metadata": {},
   "outputs": [],
   "source": [
    "reference_image_file = \"../inversion/images/deepfake/r_47.png\"\n",
    "canonical_landmarks = get_canonical_3d_landmarks(reference_image_file)\n",
    "\n",
    "length = 128\n",
    "MAX_YAW_DEGREES = 45.0\n",
    "MAX_PITCH_DEGREES = 20.0\n",
    "MAX_ROLL_DEGREES = 15.0\n",
    "name = \"deepfake\"\n",
    "\n",
    "yaw = lambda t: MAX_YAW_DEGREES * math.sin(2 * math.pi * t)\n",
    "pitch = lambda t: MAX_PITCH_DEGREES * math.cos(2 * math.pi * t)\n",
    "roll = lambda t: MAX_ROLL_DEGREES * math.sin(\n",
    "    2 * math.pi * t + math.pi / 3.0\n",
    ")\n",
    "mp_face_mesh = mp.solutions.face_mesh\n",
    "\n",
    "for i in range(length):\n",
    "\n",
    "    generate_controlnet_face_pose(\n",
    "        canonical_landmarks_3d=canonical_landmarks,\n",
    "        pitch_deg=pitch(i/length),\n",
    "        yaw_deg=yaw(i/length),\n",
    "        roll_deg=roll(i/length),\n",
    "        output_size=(512, 512),\n",
    "        output_path=f\"references/{name}_{i}.png\",\n",
    "        connections_to_draw=mp_face_mesh.FACEMESH_CONTOURS,\n",
    "    )\n"
   ]
  },
  {
   "cell_type": "code",
   "execution_count": null,
   "id": "2",
   "metadata": {},
   "outputs": [],
   "source": []
  }
 ],
 "metadata": {
  "kernelspec": {
   "display_name": "Python 3 (ipykernel)",
   "language": "python",
   "name": "python3"
  },
  "language_info": {
   "codemirror_mode": {
    "name": "ipython",
    "version": 3
   },
   "file_extension": ".py",
   "mimetype": "text/x-python",
   "name": "python",
   "nbconvert_exporter": "python",
   "pygments_lexer": "ipython3",
   "version": "3.12.9"
  }
 },
 "nbformat": 4,
 "nbformat_minor": 5
}
