{
 "cells": [
  {
   "cell_type": "code",
   "execution_count": null,
   "id": "0",
   "metadata": {},
   "outputs": [],
   "source": [
    "from PIL import Image\n",
    "import os"
   ]
  },
  {
   "cell_type": "code",
   "execution_count": null,
   "id": "1",
   "metadata": {},
   "outputs": [],
   "source": [
    "frames = []\n",
    "\n",
    "for i in range(128):\n",
    "    img1 = Image.open(f\"references/deepfake_{i}.png\")\n",
    "    img2 = Image.open(f\"deepfake/deepfake_{i}.png\")\n",
    "\n",
    "    img1 = img1.convert(\"RGB\")\n",
    "    img2 = img2.convert(\"RGB\")\n",
    "\n",
    "    target_height = min(img1.height, img2.height)\n",
    "\n",
    "    if img1.height != target_height:\n",
    "        aspect_ratio1 = img1.width / img1.height\n",
    "        new_width1 = int(target_height * aspect_ratio1)\n",
    "        img1 = img1.resize(\n",
    "            (new_width1, target_height), Image.Resampling.LANCZOS\n",
    "        )\n",
    "    else:\n",
    "        new_width1 = img1.width\n",
    "\n",
    "    if img2.height != target_height:\n",
    "        aspect_ratio2 = img2.width / img2.height\n",
    "        new_width2 = int(target_height * aspect_ratio2)\n",
    "        img2 = img2.resize(\n",
    "            (new_width2, target_height), Image.Resampling.LANCZOS\n",
    "        )\n",
    "    else:\n",
    "        new_width2 = img2.width\n",
    "\n",
    "    total_width = new_width1 + new_width2\n",
    "    concatenated_image = Image.new(\n",
    "        \"RGB\", (total_width, target_height)\n",
    "    )\n",
    "\n",
    "    concatenated_image.paste(img1, (0, 0))\n",
    "    concatenated_image.paste(img2, (new_width1, 0))\n",
    "\n",
    "    frames.append(concatenated_image)\n",
    "\n",
    "frames[0].save(\n",
    "    \"deepfake.gif\",\n",
    "    save_all=True,\n",
    "    append_images=frames[1:],\n",
    "    duration=50,\n",
    "    loop=0,\n",
    "    optimize=True\n",
    ")\n"
   ]
  },
  {
   "cell_type": "code",
   "execution_count": null,
   "id": "2",
   "metadata": {},
   "outputs": [],
   "source": []
  },
  {
   "cell_type": "code",
   "execution_count": null,
   "id": "3",
   "metadata": {},
   "outputs": [],
   "source": []
  },
  {
   "cell_type": "code",
   "execution_count": null,
   "id": "4",
   "metadata": {},
   "outputs": [],
   "source": []
  }
 ],
 "metadata": {
  "kernelspec": {
   "display_name": "Python 3 (ipykernel)",
   "language": "python",
   "name": "python3"
  },
  "language_info": {
   "codemirror_mode": {
    "name": "ipython",
    "version": 3
   },
   "file_extension": ".py",
   "mimetype": "text/x-python",
   "name": "python",
   "nbconvert_exporter": "python",
   "pygments_lexer": "ipython3",
   "version": "3.12.9"
  }
 },
 "nbformat": 4,
 "nbformat_minor": 5
}
