{
 "cells": [
  {
   "cell_type": "code",
   "execution_count": null,
   "id": "0",
   "metadata": {},
   "outputs": [],
   "source": [
    "import sys\n",
    "import os \n",
    "sys.path.append(os.path.abspath(os.path.join(\"\", \"..\")))\n",
    "import torch\n",
    "import warnings\n",
    "warnings.filterwarnings(\"ignore\")\n",
    "from PIL import Image\n",
    "from lora_w2w import LoRAw2w, LoRAModule\n",
    "from utils import load_models, inference, save_model_w2w, save_model_for_diffusers\n",
    "from inversion_utils_experimental import invert\n",
    "device = \"cuda:0\"\n",
    "\n",
    "unet, vae, text_encoder, tokenizer, noise_scheduler = load_models(device)"
   ]
  },
  {
   "cell_type": "code",
   "execution_count": null,
   "id": "1",
   "metadata": {},
   "outputs": [],
   "source": [
    "mean = torch.load(\"../files/mean.pt\").bfloat16().to(device)\n",
    "std = torch.load(\"../files/std.pt\").bfloat16().to(device)\n",
    "v = torch.load(\"../files/V.pt\").bfloat16().to(device)\n",
    "weight_dimensions = torch.load(\"../files/weight_dimensions.pt\")\n",
    "proj = torch.zeros(1,10000).bfloat16().to(device)\n",
    "network = LoRAw2w( proj, mean, std, v[:, :10000], \n",
    "                    unet,\n",
    "                    rank=1,\n",
    "                    multiplier=1.0,\n",
    "                    alpha=27.0,\n",
    "                    train_method=\"xattn-strict\"\n",
    "                ).to(device, torch.bfloat16)"
   ]
  },
  {
   "cell_type": "code",
   "execution_count": null,
   "id": "2",
   "metadata": {},
   "outputs": [],
   "source": [
    "prompt = \"sks person\"\n",
    "\n",
    "network = invert(network=network, unet=unet, vae=vae, text_encoder=text_encoder, tokenizer=tokenizer, \n",
    "                 prompt=prompt, noise_scheduler = noise_scheduler, epochs=100, \n",
    "                 image_path = \"../inversion/images/deepfake\", \n",
    "                 mask_path = \"../inversion/images/deepfake_masks\", device = device, \n",
    "                 weight_decay=0)"
   ]
  },
  {
   "cell_type": "code",
   "execution_count": null,
   "id": "3",
   "metadata": {},
   "outputs": [],
   "source": [
    "negative_prompt = \"low quality, blurry, unfinished\" \n",
    "batch_size = 1\n",
    "height = 512\n",
    "width = 512\n",
    "guidance_scale = 6\n",
    "seed = 2\n",
    "ddim_steps = 50\n",
    "\n",
    "import random\n",
    "\n",
    "seeds = [random.randint(1, 100000) for _ in range(4)] \n",
    "\n",
    "\n",
    "for i in range(4):\n",
    "    generator = torch.Generator(device=device).manual_seed(seeds[i])\n",
    "    \n",
    "    image = inference(network, unet, vae, text_encoder, tokenizer, prompt, negative_prompt, guidance_scale, noise_scheduler, ddim_steps, seeds[i], generator, device)\n",
    "\n",
    "    image = image.detach().cpu().float().permute(0, 2, 3, 1).numpy()[0]\n",
    "    image = Image.fromarray((image * 255).round().astype(\"uint8\"))\n",
    "    image.save(f\"output/img_{i}.png\")"
   ]
  },
  {
   "cell_type": "code",
   "execution_count": null,
   "id": "4",
   "metadata": {},
   "outputs": [],
   "source": [
    "save_model_w2w(network, path=\"../output/deepfake10000\")"
   ]
  },
  {
   "cell_type": "code",
   "execution_count": null,
   "id": "5",
   "metadata": {},
   "outputs": [],
   "source": []
  }
 ],
 "metadata": {
  "kernelspec": {
   "display_name": "Python 3 (ipykernel)",
   "language": "python",
   "name": "python3"
  },
  "language_info": {
   "codemirror_mode": {
    "name": "ipython",
    "version": 3
   },
   "file_extension": ".py",
   "mimetype": "text/x-python",
   "name": "python",
   "nbconvert_exporter": "python",
   "pygments_lexer": "ipython3",
   "version": "3.12.9"
  }
 },
 "nbformat": 4,
 "nbformat_minor": 5
}
